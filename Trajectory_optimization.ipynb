{
 "cells": [
  {
   "cell_type": "markdown",
   "id": "1c5b587a-a04e-4474-872b-bb4f02cceac0",
   "metadata": {},
   "source": [
    "# Trajectory optimization"
   ]
  },
  {
   "cell_type": "markdown",
   "id": "24acad2d-f129-411f-8df9-7fe9a047c975",
   "metadata": {},
   "source": [
    "In this work, we will try to implement and optimize the trajectory of an expendable two-stage-to-orbit launch vehicle using simplified model."
   ]
  },
  {
   "cell_type": "code",
   "execution_count": null,
   "id": "7560eef8-f9e0-4db5-ad3c-b15ae3ef1606",
   "metadata": {},
   "outputs": [],
   "source": [
    "import numpy as np\n",
    "import copy\n",
    "import scipy\n",
    "import constants as Cst\n",
    "from modele_atmos import compute_atmos\n",
    "import lib_trajectory\n",
    "import matplotlib.pyplot as plt"
   ]
  },
  {
   "cell_type": "markdown",
   "id": "06d44cd9-9af8-4d85-abf7-8c7caf1b4ef3",
   "metadata": {},
   "source": [
    "# Definition of design and optimization variables\n",
    "\n",
    "The goal is to put a payload into a LEO (250 km $\\times$ 250 km) orbit. The payload mass has to be maximized.\n",
    "\n",
    "## The control and design variables are the following\n",
    "- mass of the payload (1 variable),\n",
    "- delta pitch angle for the pitch over maneuver (1 variable),\n",
    "- bilinear tangent law parameters for the second stage (3 variables).\n",
    "\n",
    "## The constraints are the following\n",
    "- $h(t=t_f) = h_{\\text{target}}$ (tolerance of 1km)\n",
    "- $v(t=t_f) = v_{\\text{target}}$ (tolerance of 100 m/s)\n",
    "- $\\gamma(t=t_f) = \\gamma_{\\text{target}}$ (tolerance of 1 deg)\n",
    "\n",
    "## Several trajectory parameters are considered as fixed for the trajectory optimization\n",
    "- duration of vertical phase\n",
    "- duration of pitch over maneuver phase\n",
    "- duration of exponential decay (second phase of pitch over maneuver)"
   ]
  },
  {
   "cell_type": "markdown",
   "id": "d597bc22-5210-4155-b86d-15dfff33471c",
   "metadata": {},
   "source": [
    "The trajectory is defined as follows:\n",
    "* Vertical phase with the pitch angle $\\theta = 90\\; \\text{deg}$\n",
    "\n",
    "* A pitch-over maneuver with two phases:\n",
    "   - The evolution of the pitch angle ($\\theta$) to have a linear evolution of angle of attack ($\\alpha = \\theta - \\gamma$), with respect to the following law: $\\theta = \\gamma - \\Delta_{\\theta_{po}}\\frac{t}{\\Delta_{t_{po}}}$  with $\\gamma$ the flight path angle\n",
    "\n",
    "   - Exponential decay of angle of attack ($\\alpha$) leading to the evolution of the pitch angle: $\\theta = \\gamma -  \\Delta_{\\theta_{po}}  \\text{exp}\\left(-\\frac{t}{\\Delta_{t_{decay}}}\\right)$\n",
    "\n",
    "* A gravity turn phase in which the pitch angle is defined by $\\theta = \\gamma$ (i.e. $\\alpha = 0$).\n",
    "\n",
    "* A bilinear tangent law of pitch angle for exoatmospheric flight (flight of second stage) : $\\theta = \\text{arctan}\\left(\\frac{a^\\xi \\text{tan}(\\theta_i)+(\\text{tan}(\\theta_f)-a^\\xi \\text{tan}(\\theta_i)) t'}{a^\\xi+(1-a^\\xi)t'}\\right)$ with $t'$ the normalized time within the phase, $\\theta_i$ and $\\theta_f$ the initial and final values of pitch angle for this phase, $a$ is fixed to 100 and $\\xi$ has to be optimized.   \n",
    "    \n",
    "    \n",
    "<img src=\"flight_phases.png\" alt=\"Drawing\" style=\"width: 500px;\"/>\n"
   ]
  },
  {
   "cell_type": "markdown",
   "id": "037a8bf4-7033-490a-8be0-6c37c7488ca7",
   "metadata": {
    "tags": []
   },
   "source": [
    "First, we have to define the launch vehicle model. For this exercise, we will use a Falcon 9 launcher. We consider that the fairing is jetissoned during the stage separation."
   ]
  },
  {
   "cell_type": "code",
   "execution_count": null,
   "id": "668182f5-d484-453a-9f4e-7423b7cfbfe5",
   "metadata": {},
   "outputs": [],
   "source": [
    "Falcon_model={}\n",
    "#First stage\n",
    "Falcon_model['First_stage'] = {}\n",
    "# Propellant mass (kg)\n",
    "Falcon_model['First_stage']['Propellant_mass'] = 395700.\n",
    "# Dry mass (kg)\n",
    "Falcon_model['First_stage']['Dry_mass'] = 25600.\n",
    "# Specific impulse in vacuum (s)\n",
    "Falcon_model['First_stage']['Isp_vac'] = 312.\n",
    "# Mass flow rate (kg/s)\n",
    "Falcon_model['First_stage']['Mass_flow_rate'] = 9*298.8\n",
    "# Reference area (m^2)\n",
    "Falcon_model['First_stage']['Reference_area'] = np.pi*3.7 **2\n",
    "# Nozzle exit area (m^2)\n",
    "Falcon_model['First_stage']['Nozzle_exit_area'] = 9*(0.92/2)**2*np.pi\n",
    "\n",
    "#Second stage\n",
    "Falcon_model['Second_stage'] = {}\n",
    "# Propellant mass (kg)\n",
    "Falcon_model['Second_stage']['Propellant_mass'] = 92670.\n",
    "# Dry mass (kg)\n",
    "Falcon_model['Second_stage']['Dry_mass'] = 3900.\n",
    "# Specific impulse in vacuum (s)\n",
    "Falcon_model['Second_stage']['Isp_vac'] = 348.\n",
    "# Mass flow rate (kg/s)\n",
    "Falcon_model['Second_stage']['Mass_flow_rate'] = 287.45\n",
    "# Reference area (m^2)\n",
    "Falcon_model['Second_stage']['Reference_area'] =  np.pi*3.7 **2\n",
    "# Nozzle exit area (m^2)\n",
    "Falcon_model['Second_stage']['Nozzle_exit_area'] = (3.3/2)**2*np.pi\n",
    "# Fairing mass (kg)\n",
    "Falcon_model['Second_stage']['Fairing_mass'] = 1900."
   ]
  },
  {
   "cell_type": "code",
   "execution_count": null,
   "id": "4da80307-9903-4a78-bdc5-9f90670ad987",
   "metadata": {},
   "outputs": [],
   "source": [
    "#Parameters for control\n",
    "Parameters = {}\n",
    "Parameters['Control']={}\n",
    "Parameters['Control']['First_stage'] = {}\n",
    "Parameters['Control']['First_stage']['Vertical_phase_duration']=8         #(s)\n",
    "Parameters['Control']['First_stage']['Pitch_over_duration']=8             #(s)\n",
    "Parameters['Control']['First_stage']['Pitch_over_exp_decay_duration']=10.   #(s)"
   ]
  },
  {
   "cell_type": "code",
   "execution_count": null,
   "id": "650818eb-3bd0-40a8-ab69-cbc7e999fef3",
   "metadata": {},
   "outputs": [],
   "source": [
    "#Specifications of mission\n",
    "Parameters['Specifications'] = {}\n",
    "Parameters['Specifications']['Altitude']= 250*1e3         #(m)\n",
    "Parameters['Specifications']['Flight_path_angle']= 0.     #(deg)\n",
    "Parameters['Specifications']['Velocity']= 7300.           #(m/s)"
   ]
  },
  {
   "cell_type": "markdown",
   "id": "d9eadccd-6335-4f0c-ac10-5b8e6779a045",
   "metadata": {},
   "source": [
    "Then, we have to define our optimization problem. \n",
    "\n",
    "We will use a gradient-based optimizer called SLSQP of the `scipy` package.\n",
    "[https://docs.scipy.org/doc/scipy/reference/optimize.minimize-slsqp.html](https://docs.scipy.org/doc/scipy/reference/optimize.minimize-slsqp.html)\n",
    "\n",
    "To create the optimization problem, we need to define :\n",
    "- the objective function (here the payload mass to be maximized)\n",
    "- the constraint function (here the reach of the orbit)\n",
    "- the bounds on the design variables\n",
    "\n",
    "Design variables order is :\n",
    "- payload mass (tons)\n",
    "- initial pitch for second stage (deg)\n",
    "- final pitch for second stage (deg)\n",
    "- ksi parameter for bi linear tangent law (-)\n",
    "- delta pitch parameter for first stage (deg)\n",
    "\n",
    "We initialize the design variables to:\n",
    "\n",
    "- $m_{CU} = 20\\;\\text{t}$\n",
    "- $\\theta_i = 30\\;\\text{deg}$\n",
    "- $\\theta_f = -3\\;\\text{deg}$\n",
    "- $\\xi = 0.5$\n",
    "- $\\Delta_\\theta = 1\\;\\text{deg}$\n"
   ]
  },
  {
   "cell_type": "code",
   "execution_count": null,
   "id": "db0176f1-6627-40d9-bafe-a1eccee203a2",
   "metadata": {},
   "outputs": [],
   "source": [
    "#Definition of objective function for trajectory\n",
    "\n",
    "def obj_function_trajectory(design_var):\n",
    "    \"\"\"\n",
    "    Function defining the objective function for the optimization\n",
    "    \n",
    "    :design_var: design variables of the first stage (payload mass and control law) \n",
    "    \n",
    "    \"\"\"\n",
    "    Payload_mass = design_var[0]*1e3\n",
    "    return - Payload_mass\n",
    "\n",
    "#Definition of constraint function for trajectory\n",
    "\n",
    "def constraint_function_trajectory(design_var, Parameters,Rocket_model):\n",
    "    \"\"\"\n",
    "    Function defining the constraints function for the optimization\n",
    "    \n",
    "    :design_var: design variables of the first stage (payload mass and control law) \n",
    "    \n",
    "    :Parameters: dictionary of parameters for the simulation\n",
    "    \n",
    "    :Rocket_model: dictionary composed of rocket parameters\n",
    "    \n",
    "    \"\"\"\n",
    "    \n",
    "    # Integration of first stage trajectory\n",
    "    flight_history_first_stage = lib_trajectory.trajectory_integration_first_stage(design_var, Parameters,Rocket_model)\n",
    "\n",
    "    # Integration of second stage trajectory\n",
    "    flight_history_second_stage = lib_trajectory.trajectory_integration_second_stage(design_var,Parameters,Rocket_model,flight_history_first_stage)\n",
    "    \n",
    "    \n",
    "    # Calculation of discrepancy at the orbit\n",
    "\n",
    "    discrepancy_altitude = np.abs(Parameters['Specifications']['Altitude']-flight_history_second_stage['altitude'][-1])\n",
    "    discrepancy_velocity = np.abs(Parameters['Specifications']['Velocity']-flight_history_second_stage['velocity'][-1])\n",
    "    discrepancy_flight_path_angle = np.abs(Parameters['Specifications']['Flight_path_angle']-flight_history_second_stage['flight_path_angle'][-1])\n",
    "    \n",
    "    #Definition of tolerances on state vector at the orbit injection\n",
    "    tolerance_altitude = 1e3  #(m)\n",
    "    tolerance_velocity = 100. #(m/s)\n",
    "    tolerance_flight_path_angle = 1.  #(deg)\n",
    "    \n",
    "    return np.array([(tolerance_altitude-discrepancy_altitude)/1e3, tolerance_velocity-discrepancy_velocity,\n",
    "                     tolerance_flight_path_angle-discrepancy_flight_path_angle])\n",
    "\n",
    "\n",
    "constraint = lambda x:  constraint_function_trajectory(x,Parameters,Falcon_model)\n",
    "\n",
    "objective = lambda x:  obj_function_trajectory(x)\n",
    "\n",
    "design_var = np.array([25.,30.,0.,3.])\n",
    "\n",
    "bounds_design_var = ((20.,30.),(20.,40.),(-1,1.),(1.,3.))    "
   ]
  },
  {
   "cell_type": "markdown",
   "id": "a982090d-70bd-401f-9ceb-b2faa10ee232",
   "metadata": {},
   "source": [
    "Before launching the optimization process, it is interesting to simulate the trajectory for the initial valules of the control variables "
   ]
  },
  {
   "cell_type": "code",
   "execution_count": null,
   "id": "61cdff23-aab1-434c-923d-29c63409a7b3",
   "metadata": {},
   "outputs": [],
   "source": [
    "#Simulation of trajectory\n",
    "flight_history_first_stage = lib_trajectory.trajectory_integration_first_stage(design_var, Parameters,Falcon_model)\n",
    "\n",
    "flight_history_second_stage = lib_trajectory.trajectory_integration_second_stage(design_var,Parameters,Falcon_model,flight_history_first_stage)\n"
   ]
  },
  {
   "cell_type": "markdown",
   "id": "d47352bd-676b-4a28-80e8-42bdca48aed3",
   "metadata": {},
   "source": [
    "Several variables are available after the simulation of the trajectory.\n"
   ]
  },
  {
   "cell_type": "code",
   "execution_count": null,
   "id": "22e58bcc-4ff9-41f4-8633-a7bee6b16da4",
   "metadata": {},
   "outputs": [],
   "source": [
    "print('available variables',flight_history_first_stage.keys())"
   ]
  },
  {
   "cell_type": "markdown",
   "id": "2802f3bd-92ca-49e9-958f-8affe563b4ff",
   "metadata": {},
   "source": [
    "- 'time': time of flight\n",
    "- 'r': radius from the Earth center in m\n",
    "- 'velocity': velocity of the launcher (m/s)\n",
    "- 'flight_path_angle': fligth path angle $\\gamma$ in deg\n",
    "- 'longitude': longitude in deg\n",
    "- 'mass': mass in kg\n",
    "- 'axial_load_factor': axial load factor (-)\n",
    "- 'qdyn': dynamic pressure in Pa\n",
    "- 'flux': heat flux in W/m2\n",
    "- 'altitude': altitude from Earth surface in m\n",
    "- 'AoA': Angle of Attack in deg\n",
    "- 'pitch_angle': Pitch angle in deg\n",
    "- 'rho': atmosphere density (kg/m3)\n",
    "- 'Pa': atmospheric pressure at a certain altitude in Pa\n",
    "- 'Drag_coeff': Drag coefficient CD (-)\n",
    "- 'Thrust': thrust at a certain altitude in N\n",
    "- 'Thrust_vac': thrust in the vaccum in N\n",
    "- 'mass_flow_rate': mass flow rate of the rocket engine in kg/s\n",
    "- 'g': Gravitational Earth acceleration at a certain altitude (m/s2)\n",
    "\n",
    "\n",
    "We can plot the evolution of several variables as functions of time"
   ]
  },
  {
   "cell_type": "code",
   "execution_count": null,
   "id": "ce90281c-0cc3-4dc1-871e-19619dee16a4",
   "metadata": {},
   "outputs": [],
   "source": [
    "# Plot of trajectory at initial values\n",
    "\n",
    "#Some nice plots\n",
    "plt.figure(figsize=(20,10))\n",
    "plt.subplot(2,3,1)\n",
    "plt.plot(np.concatenate((flight_history_first_stage['time'],flight_history_first_stage['time'][-1]+flight_history_second_stage['time'])),\n",
    "         np.concatenate((flight_history_first_stage['altitude']/1e3,flight_history_second_stage['altitude']/1e3)))\n",
    "plt.title('Altitude')\n",
    "plt.xlabel('Time (s)')\n",
    "plt.ylabel('Altitude (km)')\n",
    "\n",
    "plt.grid()\n",
    "plt.subplot(2,3,2)\n",
    "\n",
    "plt.plot(np.concatenate((flight_history_first_stage['time'],flight_history_first_stage['time'][-1]+flight_history_second_stage['time'])),\n",
    "         np.concatenate((flight_history_first_stage['velocity'],flight_history_second_stage['velocity'])))\n",
    "plt.title('Velocity')\n",
    "plt.xlabel('Time (s)')\n",
    "plt.ylabel('Velocity (m/s)')\n",
    "\n",
    "plt.grid()\n",
    "\n",
    "\n",
    "plt.subplot(2,3,3)\n",
    "plt.plot(np.concatenate((flight_history_first_stage['time'],flight_history_first_stage['time'][-1]+flight_history_second_stage['time'])),\n",
    "         np.concatenate((flight_history_first_stage['flight_path_angle'],flight_history_second_stage['flight_path_angle'])))\n",
    "plt.title('Flight path angle')\n",
    "plt.xlabel('Time (s)')\n",
    "plt.ylabel('Flight path angle (deg)')\n",
    "plt.grid()\n",
    "\n",
    "plt.subplot(2,3,4)\n",
    "plt.plot(np.concatenate((flight_history_first_stage['time'],flight_history_first_stage['time'][-1]+flight_history_second_stage['time'])),\n",
    "         np.concatenate((flight_history_first_stage['pitch_angle'],flight_history_second_stage['pitch_angle'])))\n",
    "plt.title('Pitch angle')\n",
    "plt.xlabel('Time (s)')\n",
    "plt.ylabel('Pitch angle (deg)')\n",
    "\n",
    "plt.grid()\n",
    "\n",
    "plt.subplot(2,3,5)\n",
    "plt.plot(np.concatenate((flight_history_first_stage['time'],flight_history_first_stage['time'][-1]+flight_history_second_stage['time'])),\n",
    "         np.concatenate((flight_history_first_stage['mass']/1e3,flight_history_second_stage['mass']/1e3)))\n",
    "\n",
    "plt.title('Mass')\n",
    "plt.xlabel('Time (s)')\n",
    "plt.ylabel('Mass (t)')\n",
    "\n",
    "plt.grid()\n",
    "\n",
    "plt.subplot(2,3,6)\n",
    "plt.plot(np.concatenate((flight_history_first_stage['time'],flight_history_first_stage['time'][-1]+flight_history_second_stage['time'])),\n",
    "         np.concatenate((flight_history_first_stage['AoA'],flight_history_second_stage['AoA'])))\n",
    "\n",
    "plt.title('AoA')\n",
    "plt.xlabel('Time (s)')\n",
    "plt.ylabel('Angle of attack (deg)')\n",
    "\n",
    "plt.grid()"
   ]
  },
  {
   "cell_type": "markdown",
   "id": "73ac6ad7-c8c7-441f-b117-e661c25cc008",
   "metadata": {},
   "source": [
    "We can see that the simulated trajectory does not satisfy the constraints (positive as satisfied)."
   ]
  },
  {
   "cell_type": "code",
   "execution_count": null,
   "id": "7c6fea7b-dbfa-4c20-bbfd-699bf58140c0",
   "metadata": {},
   "outputs": [],
   "source": [
    "constraint(design_var) "
   ]
  },
  {
   "cell_type": "markdown",
   "id": "4365e8fc-0ddb-4069-9e9e-a883195cc27a",
   "metadata": {},
   "source": [
    "Then, we launch the optimization process."
   ]
  },
  {
   "cell_type": "code",
   "execution_count": null,
   "id": "7e639c5c-c13a-4a8b-8489-168770d0e93b",
   "metadata": {},
   "outputs": [],
   "source": [
    "# We launch the optimization\n",
    "sol_opt = scipy.optimize.fmin_slsqp(objective,\n",
    "                              design_var,\n",
    "                              f_ieqcons = constraint,\n",
    "                              bounds = bounds_design_var,\n",
    "                              disp=True,\n",
    "                             epsilon=1e-4)\n",
    "\n",
    "print(sol_opt)"
   ]
  },
  {
   "cell_type": "markdown",
   "id": "1e3bcfdb-9114-41a5-ba8c-5a4beb2ce9e7",
   "metadata": {},
   "source": [
    "We can verify that the constraints are effectively satisfied:"
   ]
  },
  {
   "cell_type": "code",
   "execution_count": null,
   "id": "2d92a8b2-26e7-4dfe-943c-d9482cd28805",
   "metadata": {},
   "outputs": [],
   "source": [
    "constraint(sol_opt)"
   ]
  },
  {
   "cell_type": "code",
   "execution_count": null,
   "id": "5016101f-412e-4fdf-944b-c360fac67e0e",
   "metadata": {},
   "outputs": [],
   "source": [
    "# We simulate the optimal solution\n",
    "flight_history_first_stage = lib_trajectory.trajectory_integration_first_stage(sol_opt, Parameters,Falcon_model)\n",
    "flight_history_second_stage = lib_trajectory.trajectory_integration_second_stage(sol_opt,Parameters,Falcon_model,flight_history_first_stage)"
   ]
  },
  {
   "cell_type": "code",
   "execution_count": null,
   "id": "c5c2e533-46cc-4bbd-84e8-d41fe9c0d2ab",
   "metadata": {},
   "outputs": [],
   "source": [
    "# Plot of trajectory at initial values\n",
    "\n",
    "#Simulation of trajectory\n",
    "flight_history_first_stage = lib_trajectory.trajectory_integration_first_stage(sol_opt, Parameters,Falcon_model)\n",
    "flight_history_second_stage = lib_trajectory.trajectory_integration_second_stage(sol_opt,Parameters,Falcon_model,flight_history_first_stage)\n",
    "\n",
    "#Some nice plots\n",
    "plt.figure(figsize=(20,10))\n",
    "plt.subplot(2,3,1)\n",
    "plt.plot(np.concatenate((flight_history_first_stage['time'],flight_history_first_stage['time'][-1]+flight_history_second_stage['time'])),\n",
    "         np.concatenate((flight_history_first_stage['altitude']/1e3,flight_history_second_stage['altitude']/1e3)))\n",
    "plt.title('Altitude')\n",
    "plt.xlabel('Time (s)')\n",
    "plt.ylabel('Altitude (km)')\n",
    "\n",
    "plt.grid()\n",
    "plt.subplot(2,3,2)\n",
    "\n",
    "plt.plot(np.concatenate((flight_history_first_stage['time'],flight_history_first_stage['time'][-1]+flight_history_second_stage['time'])),\n",
    "         np.concatenate((flight_history_first_stage['velocity'],flight_history_second_stage['velocity'])))\n",
    "plt.title('Velocity')\n",
    "plt.xlabel('Time (s)')\n",
    "plt.ylabel('Velocity (m/s)')\n",
    "\n",
    "plt.grid()\n",
    "\n",
    "\n",
    "plt.subplot(2,3,3)\n",
    "plt.plot(np.concatenate((flight_history_first_stage['time'],flight_history_first_stage['time'][-1]+flight_history_second_stage['time'])),\n",
    "         np.concatenate((flight_history_first_stage['flight_path_angle'],flight_history_second_stage['flight_path_angle'])))\n",
    "plt.title('Flight path angle')\n",
    "plt.xlabel('Time (s)')\n",
    "plt.ylabel('Flight path angle (deg)')\n",
    "plt.grid()\n",
    "\n",
    "plt.subplot(2,3,4)\n",
    "plt.plot(np.concatenate((flight_history_first_stage['time'],flight_history_first_stage['time'][-1]+flight_history_second_stage['time'])),\n",
    "         np.concatenate((flight_history_first_stage['pitch_angle'],flight_history_second_stage['pitch_angle'])))\n",
    "plt.title('Pitch angle')\n",
    "plt.xlabel('Time (s)')\n",
    "plt.ylabel('Pitch angle (deg)')\n",
    "\n",
    "plt.grid()\n",
    "\n",
    "plt.subplot(2,3,5)\n",
    "plt.plot(np.concatenate((flight_history_first_stage['time'],flight_history_first_stage['time'][-1]+flight_history_second_stage['time'])),\n",
    "         np.concatenate((flight_history_first_stage['mass']/1e3,flight_history_second_stage['mass']/1e3)))\n",
    "\n",
    "plt.title('Mass')\n",
    "plt.xlabel('Time (s)')\n",
    "plt.ylabel('Mass (t)')\n",
    "\n",
    "plt.grid()\n",
    "\n",
    "plt.subplot(2,3,6)\n",
    "plt.plot(np.concatenate((flight_history_first_stage['time'],flight_history_first_stage['time'][-1]+flight_history_second_stage['time'])),\n",
    "         np.concatenate((flight_history_first_stage['AoA'],flight_history_second_stage['AoA'])))\n",
    "\n",
    "plt.title('AoA')\n",
    "plt.xlabel('Time (s)')\n",
    "plt.ylabel('Angle of attack (deg)')\n",
    "\n",
    "plt.grid()\n",
    "\n",
    "plt.figure()\n",
    "plt.subplot(1,1,1)\n",
    "plt.plot(np.concatenate((flight_history_first_stage['time'],flight_history_first_stage['time'][-1]+flight_history_second_stage['time'])),\n",
    "         np.concatenate((flight_history_first_stage['axial_load_factor'],flight_history_second_stage['axial_load_factor'])))\n",
    "\n",
    "plt.title('AoA')\n",
    "plt.xlabel('Time (s)')\n",
    "plt.ylabel('axial_load_factor')\n",
    "\n",
    "plt.grid()\n",
    "\n"
   ]
  },
  {
   "cell_type": "code",
   "execution_count": null,
   "id": "2358bf79-198a-460f-a6f9-4d953d0c2253",
   "metadata": {},
   "outputs": [],
   "source": []
  },
  {
   "cell_type": "markdown",
   "id": "73964ab8-316b-4293-9393-2d743c50584f",
   "metadata": {},
   "source": [
    "## Question : Compute the different losses "
   ]
  },
  {
   "cell_type": "markdown",
   "id": "1b3c481f-a377-46ac-8c3e-f5d9c6c69be1",
   "metadata": {},
   "source": [
    "Losses are given :\n",
    "\\begin{align*} \n",
    "\\displaystyle \\int_{t_0}^{t_f} \\dot{V} dt &=& \\displaystyle \\int_{t_0}^{t_f} \\frac{T_{vacuum}}{m} dt &-&\\displaystyle \\int_{t_0}^{t_f} \\cos (\\theta-\\gamma+\\delta)) \\frac{Pa(r)A_n}{m} dt&-\n",
    "&  \\displaystyle \\int_{t_0}^{t_f} (1- \\cos (\\theta-\\gamma+\\delta)) \\frac{T_{vacuum}}{m} dt\\\\\n",
    "&-&\\displaystyle \\int_{t_0}^{t_f} \\frac{D}{m} dt &-& \\displaystyle \\int_{t_0}^{t_f} g(r) sin\\gamma dt\n",
    "\\end{align*}"
   ]
  },
  {
   "cell_type": "code",
   "execution_count": null,
   "id": "061cdaa3-94b0-4435-8e32-f662242d2d9f",
   "metadata": {},
   "outputs": [],
   "source": []
  },
  {
   "cell_type": "code",
   "execution_count": null,
   "id": "40a53e98-1c69-493e-8754-68961aa68dea",
   "metadata": {},
   "outputs": [],
   "source": []
  },
  {
   "cell_type": "markdown",
   "id": "e4947942-0319-41c8-a763-7763f49af6bc",
   "metadata": {},
   "source": [
    "## Question : Plot the dynamic pressure profile"
   ]
  },
  {
   "cell_type": "code",
   "execution_count": null,
   "id": "20adaa81-b5a3-4a4f-ab29-9af208f9204b",
   "metadata": {},
   "outputs": [],
   "source": []
  },
  {
   "cell_type": "markdown",
   "id": "2fc36e0c-6d80-4ec9-ba66-74f867217744",
   "metadata": {},
   "source": [
    "### On the dynamic pressure profile for this trajectory, we can see that he Pdyn is greater than 38kPa. \n",
    "\n",
    "Try to reformulate the optimization problem to respect a constraint about $\\text{max}(Pdyn)\\leq38\\text{kPa}$ and change fixed trajectory parameters to satisfy this constraint."
   ]
  },
  {
   "cell_type": "code",
   "execution_count": null,
   "id": "76a4d558-93ad-42ec-9d69-a043e061a309",
   "metadata": {},
   "outputs": [],
   "source": []
  }
 ],
 "metadata": {
  "kernelspec": {
   "display_name": "Python 3 (ipykernel)",
   "language": "python",
   "name": "python3"
  },
  "language_info": {
   "codemirror_mode": {
    "name": "ipython",
    "version": 3
   },
   "file_extension": ".py",
   "mimetype": "text/x-python",
   "name": "python",
   "nbconvert_exporter": "python",
   "pygments_lexer": "ipython3",
   "version": "3.10.9"
  }
 },
 "nbformat": 4,
 "nbformat_minor": 5
}
